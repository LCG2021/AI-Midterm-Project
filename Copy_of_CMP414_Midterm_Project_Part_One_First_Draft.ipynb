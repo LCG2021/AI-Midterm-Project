{
  "nbformat": 4,
  "nbformat_minor": 0,
  "metadata": {
    "colab": {
      "name": "Copy of  CMP414_Midterm_Project_Part_One_First_Draft",
      "provenance": [],
      "include_colab_link": true
    },
    "kernelspec": {
      "name": "python3",
      "display_name": "Python 3"
    }
  },
  "cells": [
    {
      "cell_type": "markdown",
      "metadata": {
        "id": "view-in-github",
        "colab_type": "text"
      },
      "source": [
        "<a href=\"https://colab.research.google.com/github/LCG2021/AI-Midterm-Project/blob/main/Copy_of_CMP414_Midterm_Project_Part_One_First_Draft.ipynb\" target=\"_parent\"><img src=\"https://colab.research.google.com/assets/colab-badge.svg\" alt=\"Open In Colab\"/></a>"
      ]
    },
    {
      "cell_type": "markdown",
      "metadata": {
        "id": "laRpm7hK8pSi"
      },
      "source": [
        "# Artificial Intelligence Midterm Project\n",
        "\n",
        "In this project, you will build a regression model and a classification model from scratch. Please follow the instructions closely, and only use Python's Numpy, Pandas, and matplotlib library to complete this project. Using functions from `sklearn` is not allowed.\n",
        "\n",
        "**Part I** dues on Monday, March 22nd at 11:59 PM.\n",
        "**Part II** dues on Monday, April 12th at 11:59 PM."
      ]
    },
    {
      "cell_type": "code",
      "metadata": {
        "id": "bo6dHwyJyEik"
      },
      "source": [
        "import numpy as np\n",
        "import pandas as pd\n",
        "import matplotlib.pyplot as plt\n",
        "%matplotlib inline"
      ],
      "execution_count": null,
      "outputs": []
    },
    {
      "cell_type": "markdown",
      "metadata": {
        "id": "V4Jn_QfFyP08"
      },
      "source": [
        "## Part I: A Regression Model\n",
        "\n",
        "In this part, please build a multilinear regression model that extracts the relationship between housing prices and other relevant variables. The training data is shown in the table below:\n"
      ]
    },
    {
      "cell_type": "code",
      "metadata": {
        "colab": {
          "base_uri": "https://localhost:8080/",
          "height": 195
        },
        "id": "goxKcZMU8uwh",
        "outputId": "14b80a56-4945-4278-e991-a36deaa21195"
      },
      "source": [
        "data1 = pd.DataFrame({\n",
        "    \"YearBuilt\": [1974, 1996, 1968, 1962, 1960],\n",
        "    \"YearSold\": [2015, 2017, 2020, 2010, 2016],\n",
        "    \"Bedrooms\": [3, 10, 4, 5, 6],\n",
        "    \"TotalArea\": [1500, 4000, 1700, 2500, 2000],\n",
        "    \"Quality\": [7.5, 6, 4, 5.5, 5],\n",
        "    \"Price\": [358500, 452600, 352100, 341300, 342200]\n",
        "})\n",
        "\n",
        "data1"
      ],
      "execution_count": null,
      "outputs": [
        {
          "output_type": "execute_result",
          "data": {
            "text/html": [
              "<div>\n",
              "<style scoped>\n",
              "    .dataframe tbody tr th:only-of-type {\n",
              "        vertical-align: middle;\n",
              "    }\n",
              "\n",
              "    .dataframe tbody tr th {\n",
              "        vertical-align: top;\n",
              "    }\n",
              "\n",
              "    .dataframe thead th {\n",
              "        text-align: right;\n",
              "    }\n",
              "</style>\n",
              "<table border=\"1\" class=\"dataframe\">\n",
              "  <thead>\n",
              "    <tr style=\"text-align: right;\">\n",
              "      <th></th>\n",
              "      <th>YearBuilt</th>\n",
              "      <th>YearSold</th>\n",
              "      <th>Bedrooms</th>\n",
              "      <th>TotalArea</th>\n",
              "      <th>Quality</th>\n",
              "      <th>Price</th>\n",
              "    </tr>\n",
              "  </thead>\n",
              "  <tbody>\n",
              "    <tr>\n",
              "      <th>0</th>\n",
              "      <td>1974</td>\n",
              "      <td>2015</td>\n",
              "      <td>3</td>\n",
              "      <td>1500</td>\n",
              "      <td>7.5</td>\n",
              "      <td>358500</td>\n",
              "    </tr>\n",
              "    <tr>\n",
              "      <th>1</th>\n",
              "      <td>1996</td>\n",
              "      <td>2017</td>\n",
              "      <td>10</td>\n",
              "      <td>4000</td>\n",
              "      <td>6.0</td>\n",
              "      <td>452600</td>\n",
              "    </tr>\n",
              "    <tr>\n",
              "      <th>2</th>\n",
              "      <td>1968</td>\n",
              "      <td>2020</td>\n",
              "      <td>4</td>\n",
              "      <td>1700</td>\n",
              "      <td>4.0</td>\n",
              "      <td>352100</td>\n",
              "    </tr>\n",
              "    <tr>\n",
              "      <th>3</th>\n",
              "      <td>1962</td>\n",
              "      <td>2010</td>\n",
              "      <td>5</td>\n",
              "      <td>2500</td>\n",
              "      <td>5.5</td>\n",
              "      <td>341300</td>\n",
              "    </tr>\n",
              "    <tr>\n",
              "      <th>4</th>\n",
              "      <td>1960</td>\n",
              "      <td>2016</td>\n",
              "      <td>6</td>\n",
              "      <td>2000</td>\n",
              "      <td>5.0</td>\n",
              "      <td>342200</td>\n",
              "    </tr>\n",
              "  </tbody>\n",
              "</table>\n",
              "</div>"
            ],
            "text/plain": [
              "   YearBuilt  YearSold  Bedrooms  TotalArea  Quality   Price\n",
              "0       1974      2015         3       1500      7.5  358500\n",
              "1       1996      2017        10       4000      6.0  452600\n",
              "2       1968      2020         4       1700      4.0  352100\n",
              "3       1962      2010         5       2500      5.5  341300\n",
              "4       1960      2016         6       2000      5.0  342200"
            ]
          },
          "metadata": {
            "tags": []
          },
          "execution_count": 14
        }
      ]
    },
    {
      "cell_type": "markdown",
      "metadata": {
        "id": "Yk67CJ87BqaU"
      },
      "source": [
        "### Task 1: Data Transformation (10 pts)\n",
        "Create a new column named \"Age\" that represents the age of each house when it was sold."
      ]
    },
    {
      "cell_type": "code",
      "metadata": {
        "id": "cs9awohjBqMT",
        "colab": {
          "base_uri": "https://localhost:8080/",
          "height": 195
        },
        "outputId": "32405246-d587-485a-85ec-e9846ef37c90"
      },
      "source": [
        "# Your Code Here\n",
        "data1[\"Age\"] = data1[\"YearSold\"] - data1[\"YearBuilt\"]\n",
        "data1"
      ],
      "execution_count": null,
      "outputs": [
        {
          "output_type": "execute_result",
          "data": {
            "text/html": [
              "<div>\n",
              "<style scoped>\n",
              "    .dataframe tbody tr th:only-of-type {\n",
              "        vertical-align: middle;\n",
              "    }\n",
              "\n",
              "    .dataframe tbody tr th {\n",
              "        vertical-align: top;\n",
              "    }\n",
              "\n",
              "    .dataframe thead th {\n",
              "        text-align: right;\n",
              "    }\n",
              "</style>\n",
              "<table border=\"1\" class=\"dataframe\">\n",
              "  <thead>\n",
              "    <tr style=\"text-align: right;\">\n",
              "      <th></th>\n",
              "      <th>YearBuilt</th>\n",
              "      <th>YearSold</th>\n",
              "      <th>Bedrooms</th>\n",
              "      <th>TotalArea</th>\n",
              "      <th>Quality</th>\n",
              "      <th>Price</th>\n",
              "      <th>Age</th>\n",
              "    </tr>\n",
              "  </thead>\n",
              "  <tbody>\n",
              "    <tr>\n",
              "      <th>0</th>\n",
              "      <td>1974</td>\n",
              "      <td>2015</td>\n",
              "      <td>3</td>\n",
              "      <td>1500</td>\n",
              "      <td>7.5</td>\n",
              "      <td>358500</td>\n",
              "      <td>41</td>\n",
              "    </tr>\n",
              "    <tr>\n",
              "      <th>1</th>\n",
              "      <td>1996</td>\n",
              "      <td>2017</td>\n",
              "      <td>10</td>\n",
              "      <td>4000</td>\n",
              "      <td>6.0</td>\n",
              "      <td>452600</td>\n",
              "      <td>21</td>\n",
              "    </tr>\n",
              "    <tr>\n",
              "      <th>2</th>\n",
              "      <td>1968</td>\n",
              "      <td>2020</td>\n",
              "      <td>4</td>\n",
              "      <td>1700</td>\n",
              "      <td>4.0</td>\n",
              "      <td>352100</td>\n",
              "      <td>52</td>\n",
              "    </tr>\n",
              "    <tr>\n",
              "      <th>3</th>\n",
              "      <td>1962</td>\n",
              "      <td>2010</td>\n",
              "      <td>5</td>\n",
              "      <td>2500</td>\n",
              "      <td>5.5</td>\n",
              "      <td>341300</td>\n",
              "      <td>48</td>\n",
              "    </tr>\n",
              "    <tr>\n",
              "      <th>4</th>\n",
              "      <td>1960</td>\n",
              "      <td>2016</td>\n",
              "      <td>6</td>\n",
              "      <td>2000</td>\n",
              "      <td>5.0</td>\n",
              "      <td>342200</td>\n",
              "      <td>56</td>\n",
              "    </tr>\n",
              "  </tbody>\n",
              "</table>\n",
              "</div>"
            ],
            "text/plain": [
              "   YearBuilt  YearSold  Bedrooms  TotalArea  Quality   Price  Age\n",
              "0       1974      2015         3       1500      7.5  358500   41\n",
              "1       1996      2017        10       4000      6.0  452600   21\n",
              "2       1968      2020         4       1700      4.0  352100   52\n",
              "3       1962      2010         5       2500      5.5  341300   48\n",
              "4       1960      2016         6       2000      5.0  342200   56"
            ]
          },
          "metadata": {
            "tags": []
          },
          "execution_count": 15
        }
      ]
    },
    {
      "cell_type": "markdown",
      "metadata": {
        "id": "kBzHY7sj-6P5"
      },
      "source": [
        "### Task 2: Train a Multilinear Model (20 pts)\n",
        "Assume that the price can be expressed as a linear combination of age, bedrooms, total area, and quality:\n",
        "\n",
        "$Price = \\theta_0 + \\theta_1 \\cdot Age + \\theta_2 \\cdot Bedrooms + \\theta_3 \\cdot TotalArea + \\theta_4 \\cdot Quality.$\n",
        "\n",
        "Apply the normal equation to find the best values for the parameters:\n",
        "1. Construct matrix $\\textbf{X}$ and $\\textbf{y}$ (the matrices are defined in Week 6 notebook and Chapter 4 of the textbook).\n",
        "2. Calculate the parameter vector using the normal equation\n",
        "$\\theta = \\big(\\textbf{X}^T\\cdot\\textbf{X}\\big)^{-1}\\cdot\\textbf{X}^T\\cdot\\textbf{y}$"
      ]
    },
    {
      "cell_type": "code",
      "metadata": {
        "id": "E_K5F4oD-S6Y",
        "colab": {
          "base_uri": "https://localhost:8080/"
        },
        "outputId": "6f40451c-ab15-478b-f984-618dcc69a625"
      },
      "source": [
        "# Your Code Here\n",
        "# Construct matrix X using np.hstack(), np.ones()\n",
        "\n",
        "# 1. Construct a column of ones\n",
        "\n",
        "X = np.hstack([np.ones([5, 1]), data1[[\"Age\", \"Bedrooms\", \"TotalArea\", \"Quality\"]].values])\n",
        "print(X)\n",
        "\n",
        "y = data1[[\"Price\"]].values\n",
        "print(y)\n",
        "\n",
        "theta = np.linalg.inv(X.T.dot(X)).dot(X.T).dot(y)\n",
        "\n",
        "print(\"Theta:\", theta)\n"
      ],
      "execution_count": null,
      "outputs": [
        {
          "output_type": "stream",
          "text": [
            "[[1.0e+00 4.1e+01 3.0e+00 1.5e+03 7.5e+00]\n",
            " [1.0e+00 2.1e+01 1.0e+01 4.0e+03 6.0e+00]\n",
            " [1.0e+00 5.2e+01 4.0e+00 1.7e+03 4.0e+00]\n",
            " [1.0e+00 4.8e+01 5.0e+00 2.5e+03 5.5e+00]\n",
            " [1.0e+00 5.6e+01 6.0e+00 2.0e+03 5.0e+00]]\n",
            "[[358500]\n",
            " [452600]\n",
            " [352100]\n",
            " [341300]\n",
            " [342200]]\n",
            "Theta: [[ 5.92376387e+05]\n",
            " [-3.83925328e+03]\n",
            " [ 1.17271948e+04]\n",
            " [-3.11089808e+01]\n",
            " [-8.66468214e+03]]\n"
          ],
          "name": "stdout"
        }
      ]
    },
    {
      "cell_type": "markdown",
      "metadata": {
        "id": "CYhiUFfuAVjM"
      },
      "source": [
        "### Task 3: Make A Prediction (10 pts)\n",
        "Suppose that there is another house with the following attribute:\n",
        "- YearBuilt: 1985\n",
        "- YearSold: 2021\n",
        "- Bedrooms: 6\n",
        "- Total Area: 2500\n",
        "- Quality: 5.5\n",
        "\n",
        "Use the parameter values that you have calculated to make a prediction on its sale price."
      ]
    },
    {
      "cell_type": "code",
      "metadata": {
        "id": "RxMICEwzAVll",
        "colab": {
          "base_uri": "https://localhost:8080/"
        },
        "outputId": "c02c08b9-8cc6-4aab-dba1-91a6cb8e90d0"
      },
      "source": [
        "# Your Code Here\n",
        "parameter_vector = np.array([ 5.92376387e+05, -3.83925328e+03,1.17271948e+04,-3.11089808e+01, -8.66468214e+03])\n",
        "feature_vector = np.array([1, 36, 6, 2500, 5.5])\n",
        "prediction = parameter_vector.dot(feature_vector)\n",
        "print(prediction)"
      ],
      "execution_count": null,
      "outputs": [
        {
          "output_type": "stream",
          "text": [
            "399098.23395\n"
          ],
          "name": "stdout"
        }
      ]
    },
    {
      "cell_type": "markdown",
      "metadata": {
        "id": "TESGJJp2AVoN"
      },
      "source": [
        "## Part II: A Classification Model\n",
        "\n",
        "In this part, we will build a logistic regression model and evaluate its performance on the classifying the data. The dataset is as follows:\n"
      ]
    },
    {
      "cell_type": "code",
      "metadata": {
        "colab": {
          "base_uri": "https://localhost:8080/",
          "height": 254
        },
        "id": "an34K0ecAVql",
        "outputId": "83486b82-83c3-4bd5-8574-7bd6504f8c34"
      },
      "source": [
        "data2 = pd.DataFrame([[5.0, 2.0, 1],\n",
        "                      [6.2, 3.4, 1],\n",
        "                      [4.9, 3.6, 0],\n",
        "                      [6.2, 2.2, 1],\n",
        "                      [5.7, 3.0, 1],\n",
        "                      [4.8, 3.4, 0],\n",
        "                      [5.0, 3.4, 0]],\n",
        "                     columns=[\"x1\", \"x2\", \"class\"])\n",
        "data2"
      ],
      "execution_count": null,
      "outputs": [
        {
          "output_type": "execute_result",
          "data": {
            "text/html": [
              "<div>\n",
              "<style scoped>\n",
              "    .dataframe tbody tr th:only-of-type {\n",
              "        vertical-align: middle;\n",
              "    }\n",
              "\n",
              "    .dataframe tbody tr th {\n",
              "        vertical-align: top;\n",
              "    }\n",
              "\n",
              "    .dataframe thead th {\n",
              "        text-align: right;\n",
              "    }\n",
              "</style>\n",
              "<table border=\"1\" class=\"dataframe\">\n",
              "  <thead>\n",
              "    <tr style=\"text-align: right;\">\n",
              "      <th></th>\n",
              "      <th>x1</th>\n",
              "      <th>x2</th>\n",
              "      <th>class</th>\n",
              "    </tr>\n",
              "  </thead>\n",
              "  <tbody>\n",
              "    <tr>\n",
              "      <th>0</th>\n",
              "      <td>5.0</td>\n",
              "      <td>2.0</td>\n",
              "      <td>1</td>\n",
              "    </tr>\n",
              "    <tr>\n",
              "      <th>1</th>\n",
              "      <td>6.2</td>\n",
              "      <td>3.4</td>\n",
              "      <td>1</td>\n",
              "    </tr>\n",
              "    <tr>\n",
              "      <th>2</th>\n",
              "      <td>4.9</td>\n",
              "      <td>3.6</td>\n",
              "      <td>0</td>\n",
              "    </tr>\n",
              "    <tr>\n",
              "      <th>3</th>\n",
              "      <td>6.2</td>\n",
              "      <td>2.2</td>\n",
              "      <td>1</td>\n",
              "    </tr>\n",
              "    <tr>\n",
              "      <th>4</th>\n",
              "      <td>5.7</td>\n",
              "      <td>3.0</td>\n",
              "      <td>1</td>\n",
              "    </tr>\n",
              "    <tr>\n",
              "      <th>5</th>\n",
              "      <td>4.8</td>\n",
              "      <td>3.4</td>\n",
              "      <td>0</td>\n",
              "    </tr>\n",
              "    <tr>\n",
              "      <th>6</th>\n",
              "      <td>5.0</td>\n",
              "      <td>3.4</td>\n",
              "      <td>0</td>\n",
              "    </tr>\n",
              "  </tbody>\n",
              "</table>\n",
              "</div>"
            ],
            "text/plain": [
              "    x1   x2  class\n",
              "0  5.0  2.0      1\n",
              "1  6.2  3.4      1\n",
              "2  4.9  3.6      0\n",
              "3  6.2  2.2      1\n",
              "4  5.7  3.0      1\n",
              "5  4.8  3.4      0\n",
              "6  5.0  3.4      0"
            ]
          },
          "metadata": {
            "tags": []
          },
          "execution_count": 18
        }
      ]
    },
    {
      "cell_type": "markdown",
      "metadata": {
        "id": "xSoBjGdmAVvj"
      },
      "source": [
        "### Task 1: Data Visualization (10 pts)\n",
        "Visualize the data as a scatter plot. Show class 0 records as green dots and class 1 records as blue dots. Display the following items:\n",
        "- Title of the plot: Distribution of the training data\n",
        "- Label for x axis: x1\n",
        "- Label for y axis: x2\n",
        "- Legend"
      ]
    },
    {
      "cell_type": "code",
      "metadata": {
        "id": "tJ3yYz2TEFtU"
      },
      "source": [
        "# Your Code Here\n",
        "\n"
      ],
      "execution_count": null,
      "outputs": []
    },
    {
      "cell_type": "markdown",
      "metadata": {
        "id": "ci_icuTREOxj"
      },
      "source": [
        "### Task 2: Apply A Logistic Regression Model (10 pts)\n",
        "\n",
        "Suppose that you are given a logistic regression model with explicity paramter values:\n",
        "\n",
        "$p = \\sigma(\\textbf{x}\\cdot\\theta^T).$\n",
        "\n",
        "where\n",
        "- p: the probability that the point belongs to class 1.\n",
        "- $\\textbf{x} = (1, x_1, x_2)$.\n",
        "- $\\theta = (\\theta_0, \\theta_1, \\theta_2) = (-2.15, 0.92, -0.82)$.\n",
        "- $\\sigma(t) = \\frac{1}{1+e^{-t}}$\n",
        "\n",
        "Find the model's prediction on the following test set:"
      ]
    },
    {
      "cell_type": "code",
      "metadata": {
        "colab": {
          "base_uri": "https://localhost:8080/",
          "height": 166
        },
        "id": "7gOdAR4pGWOW",
        "outputId": "0587774c-a8ab-4cae-a086-70f0ccce997d"
      },
      "source": [
        "data3 = pd.DataFrame([[5.1, 3.4, 0],\n",
        "                      [6.5, 2.8, 1],\n",
        "                      [5.8, 2.7, 1],\n",
        "                      [4.6, 3.1, 0]],\n",
        "                     columns=[\"x1\", \"x2\", \"class\"])\n",
        "data3"
      ],
      "execution_count": null,
      "outputs": [
        {
          "output_type": "execute_result",
          "data": {
            "text/html": [
              "<div>\n",
              "<style scoped>\n",
              "    .dataframe tbody tr th:only-of-type {\n",
              "        vertical-align: middle;\n",
              "    }\n",
              "\n",
              "    .dataframe tbody tr th {\n",
              "        vertical-align: top;\n",
              "    }\n",
              "\n",
              "    .dataframe thead th {\n",
              "        text-align: right;\n",
              "    }\n",
              "</style>\n",
              "<table border=\"1\" class=\"dataframe\">\n",
              "  <thead>\n",
              "    <tr style=\"text-align: right;\">\n",
              "      <th></th>\n",
              "      <th>x1</th>\n",
              "      <th>x2</th>\n",
              "      <th>class</th>\n",
              "    </tr>\n",
              "  </thead>\n",
              "  <tbody>\n",
              "    <tr>\n",
              "      <th>0</th>\n",
              "      <td>5.1</td>\n",
              "      <td>3.4</td>\n",
              "      <td>0</td>\n",
              "    </tr>\n",
              "    <tr>\n",
              "      <th>1</th>\n",
              "      <td>6.5</td>\n",
              "      <td>2.8</td>\n",
              "      <td>1</td>\n",
              "    </tr>\n",
              "    <tr>\n",
              "      <th>2</th>\n",
              "      <td>5.8</td>\n",
              "      <td>2.7</td>\n",
              "      <td>1</td>\n",
              "    </tr>\n",
              "    <tr>\n",
              "      <th>3</th>\n",
              "      <td>4.6</td>\n",
              "      <td>3.1</td>\n",
              "      <td>0</td>\n",
              "    </tr>\n",
              "  </tbody>\n",
              "</table>\n",
              "</div>"
            ],
            "text/plain": [
              "    x1   x2  class\n",
              "0  5.1  3.4      0\n",
              "1  6.5  2.8      1\n",
              "2  5.8  2.7      1\n",
              "3  4.6  3.1      0"
            ]
          },
          "metadata": {
            "tags": []
          },
          "execution_count": 20
        }
      ]
    },
    {
      "cell_type": "markdown",
      "metadata": {
        "id": "HW5kVRygGo1j"
      },
      "source": [
        "### Task 3: Model Evaluation (40 pts)\n",
        "Calculate the following model metrics regarding the performance on the test set:\n",
        "- classification accuracy\n",
        "- precision score\n",
        "- recall score\n",
        "- F-1 score"
      ]
    },
    {
      "cell_type": "code",
      "metadata": {
        "id": "_cymkGXo-uRa"
      },
      "source": [
        "# Classification Accuracy\n",
        "\n"
      ],
      "execution_count": null,
      "outputs": []
    },
    {
      "cell_type": "code",
      "metadata": {
        "id": "-RJyTLUgHYWO"
      },
      "source": [
        "# Precision Score\n",
        "\n"
      ],
      "execution_count": null,
      "outputs": []
    },
    {
      "cell_type": "code",
      "metadata": {
        "id": "ADK-WMCrHZQA"
      },
      "source": [
        "# Recall Score\n",
        "\n"
      ],
      "execution_count": null,
      "outputs": []
    },
    {
      "cell_type": "code",
      "metadata": {
        "id": "yp903_hxHaGk"
      },
      "source": [
        "# F-1 Score\n",
        "\n"
      ],
      "execution_count": null,
      "outputs": []
    },
    {
      "cell_type": "code",
      "metadata": {
        "id": "rlUx3HoNHbIt"
      },
      "source": [
        ""
      ],
      "execution_count": null,
      "outputs": []
    }
  ]
}