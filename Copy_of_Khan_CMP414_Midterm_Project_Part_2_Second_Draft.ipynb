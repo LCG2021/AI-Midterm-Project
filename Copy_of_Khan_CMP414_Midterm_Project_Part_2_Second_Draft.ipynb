{
  "nbformat": 4,
  "nbformat_minor": 0,
  "metadata": {
    "colab": {
      "name": "Copy of Khan_CMP414_Midterm_Project_Part_2_Second_Draft",
      "provenance": [],
      "include_colab_link": true
    },
    "kernelspec": {
      "name": "python3",
      "display_name": "Python 3"
    }
  },
  "cells": [
    {
      "cell_type": "markdown",
      "metadata": {
        "id": "view-in-github",
        "colab_type": "text"
      },
      "source": [
        "<a href=\"https://colab.research.google.com/github/LCG2021/AI-Midterm-Project/blob/main/Copy_of_Khan_CMP414_Midterm_Project_Part_2_Second_Draft.ipynb\" target=\"_parent\"><img src=\"https://colab.research.google.com/assets/colab-badge.svg\" alt=\"Open In Colab\"/></a>"
      ]
    },
    {
      "cell_type": "markdown",
      "metadata": {
        "id": "laRpm7hK8pSi"
      },
      "source": [
        "# Artificial Intelligence Midterm Project\n",
        "\n",
        "In this project, you will build a regression model and a classification model from scratch. Please follow the instructions closely, and only use Python's Numpy, Pandas, and matplotlib library to complete this project. Using functions from `sklearn` is not allowed.\n",
        "\n",
        "**Part I** dues on Monday, March 22nd at 11:59 PM.\n",
        "**Part II** dues on Monday, April 12th at 11:59 PM."
      ]
    },
    {
      "cell_type": "code",
      "metadata": {
        "id": "bo6dHwyJyEik"
      },
      "source": [
        "import numpy as np\n",
        "import pandas as pd\n",
        "import matplotlib.pyplot as plt\n",
        "%matplotlib inline"
      ],
      "execution_count": null,
      "outputs": []
    },
    {
      "cell_type": "markdown",
      "metadata": {
        "id": "V4Jn_QfFyP08"
      },
      "source": [
        "## Part I: A Regression Model\n",
        "\n",
        "In this part, please build a multilinear regression model that extracts the relationship between housing prices and other relevant variables. The training data is shown in the table below:\n"
      ]
    },
    {
      "cell_type": "code",
      "metadata": {
        "colab": {
          "base_uri": "https://localhost:8080/",
          "height": 195
        },
        "id": "goxKcZMU8uwh",
        "outputId": "613d19c0-7cf8-46cd-ae3b-a51a2923a90c"
      },
      "source": [
        "data1 = pd.DataFrame({\n",
        "    \"YearBuilt\": [1974, 1996, 1968, 1962, 1960],\n",
        "    \"YearSold\": [2015, 2017, 2020, 2010, 2016],\n",
        "    \"Bedrooms\": [3, 10, 4, 5, 6],\n",
        "    \"TotalArea\": [1500, 4000, 1700, 2500, 2000],\n",
        "    \"Quality\": [7.5, 6, 4, 5.5, 5],\n",
        "    \"Price\": [358500, 452600, 352100, 341300, 342200]\n",
        "})\n",
        "\n",
        "data1"
      ],
      "execution_count": null,
      "outputs": [
        {
          "output_type": "execute_result",
          "data": {
            "text/html": [
              "<div>\n",
              "<style scoped>\n",
              "    .dataframe tbody tr th:only-of-type {\n",
              "        vertical-align: middle;\n",
              "    }\n",
              "\n",
              "    .dataframe tbody tr th {\n",
              "        vertical-align: top;\n",
              "    }\n",
              "\n",
              "    .dataframe thead th {\n",
              "        text-align: right;\n",
              "    }\n",
              "</style>\n",
              "<table border=\"1\" class=\"dataframe\">\n",
              "  <thead>\n",
              "    <tr style=\"text-align: right;\">\n",
              "      <th></th>\n",
              "      <th>YearBuilt</th>\n",
              "      <th>YearSold</th>\n",
              "      <th>Bedrooms</th>\n",
              "      <th>TotalArea</th>\n",
              "      <th>Quality</th>\n",
              "      <th>Price</th>\n",
              "    </tr>\n",
              "  </thead>\n",
              "  <tbody>\n",
              "    <tr>\n",
              "      <th>0</th>\n",
              "      <td>1974</td>\n",
              "      <td>2015</td>\n",
              "      <td>3</td>\n",
              "      <td>1500</td>\n",
              "      <td>7.5</td>\n",
              "      <td>358500</td>\n",
              "    </tr>\n",
              "    <tr>\n",
              "      <th>1</th>\n",
              "      <td>1996</td>\n",
              "      <td>2017</td>\n",
              "      <td>10</td>\n",
              "      <td>4000</td>\n",
              "      <td>6.0</td>\n",
              "      <td>452600</td>\n",
              "    </tr>\n",
              "    <tr>\n",
              "      <th>2</th>\n",
              "      <td>1968</td>\n",
              "      <td>2020</td>\n",
              "      <td>4</td>\n",
              "      <td>1700</td>\n",
              "      <td>4.0</td>\n",
              "      <td>352100</td>\n",
              "    </tr>\n",
              "    <tr>\n",
              "      <th>3</th>\n",
              "      <td>1962</td>\n",
              "      <td>2010</td>\n",
              "      <td>5</td>\n",
              "      <td>2500</td>\n",
              "      <td>5.5</td>\n",
              "      <td>341300</td>\n",
              "    </tr>\n",
              "    <tr>\n",
              "      <th>4</th>\n",
              "      <td>1960</td>\n",
              "      <td>2016</td>\n",
              "      <td>6</td>\n",
              "      <td>2000</td>\n",
              "      <td>5.0</td>\n",
              "      <td>342200</td>\n",
              "    </tr>\n",
              "  </tbody>\n",
              "</table>\n",
              "</div>"
            ],
            "text/plain": [
              "   YearBuilt  YearSold  Bedrooms  TotalArea  Quality   Price\n",
              "0       1974      2015         3       1500      7.5  358500\n",
              "1       1996      2017        10       4000      6.0  452600\n",
              "2       1968      2020         4       1700      4.0  352100\n",
              "3       1962      2010         5       2500      5.5  341300\n",
              "4       1960      2016         6       2000      5.0  342200"
            ]
          },
          "metadata": {
            "tags": []
          },
          "execution_count": 238
        }
      ]
    },
    {
      "cell_type": "markdown",
      "metadata": {
        "id": "Yk67CJ87BqaU"
      },
      "source": [
        "### Task 1: Data Transformation (10 pts)\n",
        "Create a new column named \"Age\" that represents the age of each house when it was sold."
      ]
    },
    {
      "cell_type": "code",
      "metadata": {
        "id": "cs9awohjBqMT"
      },
      "source": [
        "# Your Code Here\n",
        "\n"
      ],
      "execution_count": null,
      "outputs": []
    },
    {
      "cell_type": "markdown",
      "metadata": {
        "id": "kBzHY7sj-6P5"
      },
      "source": [
        "### Task 2: Train a Multilinear Model (20 pts)\n",
        "Assume that the price can be expressed as a linear combination of age, bedrooms, total area, and quality:\n",
        "\n",
        "$Price = \\theta_0 + \\theta_1 \\cdot Age + \\theta_2 \\cdot Bedrooms + \\theta_3 \\cdot TotalArea + \\theta_4 \\cdot Quality.$\n",
        "\n",
        "Apply the normal equation to find the best values for the parameters:\n",
        "1. Construct matrix $\\textbf{X}$ and $\\textbf{y}$ (the matrices are defined in Week 6 notebook and Chapter 4 of the textbook).\n",
        "2. Calculate the parameter vector using the normal equation\n",
        "$\\theta = \\big(\\textbf{X}^T\\cdot\\textbf{X}\\big)^{-1}\\cdot\\textbf{X}^T\\cdot\\textbf{y}$"
      ]
    },
    {
      "cell_type": "code",
      "metadata": {
        "id": "E_K5F4oD-S6Y"
      },
      "source": [
        "# Your Code Here\n",
        "\n"
      ],
      "execution_count": null,
      "outputs": []
    },
    {
      "cell_type": "markdown",
      "metadata": {
        "id": "CYhiUFfuAVjM"
      },
      "source": [
        "### Task 3: Make A Prediction (10 pts)\n",
        "Suppose that there is another house with the following attribute:\n",
        "- YearBuilt: 1985\n",
        "- YearSold: 2021\n",
        "- Bedrooms: 6\n",
        "- Total Area: 2500\n",
        "- Quality: 5.5\n",
        "\n",
        "Use the parameter values that you have calculated to make a prediction on its sale price."
      ]
    },
    {
      "cell_type": "code",
      "metadata": {
        "id": "RxMICEwzAVll"
      },
      "source": [
        "# Your Code Here\n",
        "\n"
      ],
      "execution_count": null,
      "outputs": []
    },
    {
      "cell_type": "markdown",
      "metadata": {
        "id": "TESGJJp2AVoN"
      },
      "source": [
        "## Part II: A Classification Model\n",
        "\n",
        "In this part, we will build a logistic regression model and evaluate its performance on the classifying the data. The dataset is as follows:\n"
      ]
    },
    {
      "cell_type": "code",
      "metadata": {
        "colab": {
          "base_uri": "https://localhost:8080/",
          "height": 254
        },
        "id": "an34K0ecAVql",
        "outputId": "8aab05c2-d1fc-483f-e193-34c1dc602daf"
      },
      "source": [
        "data2 = pd.DataFrame([[5.0, 2.0, 1],\n",
        "                      [6.2, 3.4, 1],\n",
        "                      [4.9, 3.6, 0],\n",
        "                      [6.2, 2.2, 1],\n",
        "                      [5.7, 3.0, 1],\n",
        "                      [4.8, 3.4, 0],\n",
        "                      [5.0, 3.4, 0]],\n",
        "                     columns=[\"x1\", \"x2\", \"class\"])\n",
        "data2"
      ],
      "execution_count": null,
      "outputs": [
        {
          "output_type": "execute_result",
          "data": {
            "text/html": [
              "<div>\n",
              "<style scoped>\n",
              "    .dataframe tbody tr th:only-of-type {\n",
              "        vertical-align: middle;\n",
              "    }\n",
              "\n",
              "    .dataframe tbody tr th {\n",
              "        vertical-align: top;\n",
              "    }\n",
              "\n",
              "    .dataframe thead th {\n",
              "        text-align: right;\n",
              "    }\n",
              "</style>\n",
              "<table border=\"1\" class=\"dataframe\">\n",
              "  <thead>\n",
              "    <tr style=\"text-align: right;\">\n",
              "      <th></th>\n",
              "      <th>x1</th>\n",
              "      <th>x2</th>\n",
              "      <th>class</th>\n",
              "    </tr>\n",
              "  </thead>\n",
              "  <tbody>\n",
              "    <tr>\n",
              "      <th>0</th>\n",
              "      <td>5.0</td>\n",
              "      <td>2.0</td>\n",
              "      <td>1</td>\n",
              "    </tr>\n",
              "    <tr>\n",
              "      <th>1</th>\n",
              "      <td>6.2</td>\n",
              "      <td>3.4</td>\n",
              "      <td>1</td>\n",
              "    </tr>\n",
              "    <tr>\n",
              "      <th>2</th>\n",
              "      <td>4.9</td>\n",
              "      <td>3.6</td>\n",
              "      <td>0</td>\n",
              "    </tr>\n",
              "    <tr>\n",
              "      <th>3</th>\n",
              "      <td>6.2</td>\n",
              "      <td>2.2</td>\n",
              "      <td>1</td>\n",
              "    </tr>\n",
              "    <tr>\n",
              "      <th>4</th>\n",
              "      <td>5.7</td>\n",
              "      <td>3.0</td>\n",
              "      <td>1</td>\n",
              "    </tr>\n",
              "    <tr>\n",
              "      <th>5</th>\n",
              "      <td>4.8</td>\n",
              "      <td>3.4</td>\n",
              "      <td>0</td>\n",
              "    </tr>\n",
              "    <tr>\n",
              "      <th>6</th>\n",
              "      <td>5.0</td>\n",
              "      <td>3.4</td>\n",
              "      <td>0</td>\n",
              "    </tr>\n",
              "  </tbody>\n",
              "</table>\n",
              "</div>"
            ],
            "text/plain": [
              "    x1   x2  class\n",
              "0  5.0  2.0      1\n",
              "1  6.2  3.4      1\n",
              "2  4.9  3.6      0\n",
              "3  6.2  2.2      1\n",
              "4  5.7  3.0      1\n",
              "5  4.8  3.4      0\n",
              "6  5.0  3.4      0"
            ]
          },
          "metadata": {
            "tags": []
          },
          "execution_count": 242
        }
      ]
    },
    {
      "cell_type": "markdown",
      "metadata": {
        "id": "xSoBjGdmAVvj"
      },
      "source": [
        "### Task 1: Data Visualization (10 pts)\n",
        "Visualize the data as a scatter plot. Show class 0 records as green dots and class 1 records as blue dots. Display the following items:\n",
        "- Title of the plot: Distribution of the training data\n",
        "- Label for x axis: x1\n",
        "- Label for y axis: x2\n",
        "- Legend"
      ]
    },
    {
      "cell_type": "code",
      "metadata": {
        "id": "tJ3yYz2TEFtU",
        "colab": {
          "base_uri": "https://localhost:8080/",
          "height": 313
        },
        "outputId": "f8c31284-5387-486c-d300-180e4b7b3ec8"
      },
      "source": [
        "# Your Code Here\n",
        "# Let draw the scatter plot\n",
        "\n",
        "index_0 = (data2['class'] == 0)\n",
        "index_1 = (data2['class'] == 1)\n",
        "\n",
        "plt.scatter(data2.loc[index_0, 'x1'], data2.loc[index_0, 'x2'], c = 'green', label = 'Zeros')\n",
        "plt.scatter(data2.loc[index_1, 'x1'], data2.loc[index_1, 'x2'], c = 'blue', label = 'Ones')\n",
        "\n",
        "plt.title(\" Distribution of the training data\")\n",
        "plt.xlabel(\"x1\")\n",
        "plt.xlabel(\"x2\")\n",
        "\n",
        "plt.legend()"
      ],
      "execution_count": null,
      "outputs": [
        {
          "output_type": "execute_result",
          "data": {
            "text/plain": [
              "<matplotlib.legend.Legend at 0x7f3560450a90>"
            ]
          },
          "metadata": {
            "tags": []
          },
          "execution_count": 243
        },
        {
          "output_type": "display_data",
          "data": {
            "image/png": "[encoded data removed]",
            "text/plain": [
              "<Figure size 432x288 with 1 Axes>"
            ]
          },
          "metadata": {
            "tags": [],
            "needs_background": "light"
          }
        }
      ]
    },
    {
      "cell_type": "markdown",
      "metadata": {
        "id": "ci_icuTREOxj"
      },
      "source": [
        "### Task 2: Apply A Logistic Regression Model (10 pts)\n",
        "\n",
        "Suppose that you are given a logistic regression model with explicity paramter values:\n",
        "\n",
        "$p = \\sigma(\\textbf{x}\\cdot\\theta^T).$\n",
        "\n",
        "where\n",
        "- p: the probability that the point belongs to class 1.\n",
        "- $\\textbf{x} = (1, x_1, x_2)$.\n",
        "- $\\theta = (\\theta_0, \\theta_1, \\theta_2) = (-2.15, 0.92, -0.82)$.\n",
        "- $\\sigma(t) = \\frac{1}{1+e^{-t}}$\n",
        "\n",
        "Find the model's prediction on the following test set:"
      ]
    },
    {
      "cell_type": "code",
      "metadata": {
        "colab": {
          "base_uri": "https://localhost:8080/",
          "height": 166
        },
        "id": "7gOdAR4pGWOW",
        "outputId": "d7351937-4671-4f1f-f5fa-31360ed56efa"
      },
      "source": [
        "import pandas as pd\n",
        "import numpy as np\n",
        "import matplotlib.pyplot as plt\n",
        "import random\n",
        "\n",
        "\n",
        "\n",
        "data3 = pd.DataFrame([[5.1, 3.4, 0],\n",
        "                      [6.5, 2.8, 1],\n",
        "                      [5.8, 2.7, 1],\n",
        "                      [4.6, 3.1, 0]],\n",
        "                     columns = [\"x1\", \"x2\", \"class\"])\n",
        "\n",
        "data3"
      ],
      "execution_count": null,
      "outputs": [
        {
          "output_type": "execute_result",
          "data": {
            "text/html": [
              "<div>\n",
              "<style scoped>\n",
              "    .dataframe tbody tr th:only-of-type {\n",
              "        vertical-align: middle;\n",
              "    }\n",
              "\n",
              "    .dataframe tbody tr th {\n",
              "        vertical-align: top;\n",
              "    }\n",
              "\n",
              "    .dataframe thead th {\n",
              "        text-align: right;\n",
              "    }\n",
              "</style>\n",
              "<table border=\"1\" class=\"dataframe\">\n",
              "  <thead>\n",
              "    <tr style=\"text-align: right;\">\n",
              "      <th></th>\n",
              "      <th>x1</th>\n",
              "      <th>x2</th>\n",
              "      <th>class</th>\n",
              "    </tr>\n",
              "  </thead>\n",
              "  <tbody>\n",
              "    <tr>\n",
              "      <th>0</th>\n",
              "      <td>5.1</td>\n",
              "      <td>3.4</td>\n",
              "      <td>0</td>\n",
              "    </tr>\n",
              "    <tr>\n",
              "      <th>1</th>\n",
              "      <td>6.5</td>\n",
              "      <td>2.8</td>\n",
              "      <td>1</td>\n",
              "    </tr>\n",
              "    <tr>\n",
              "      <th>2</th>\n",
              "      <td>5.8</td>\n",
              "      <td>2.7</td>\n",
              "      <td>1</td>\n",
              "    </tr>\n",
              "    <tr>\n",
              "      <th>3</th>\n",
              "      <td>4.6</td>\n",
              "      <td>3.1</td>\n",
              "      <td>0</td>\n",
              "    </tr>\n",
              "  </tbody>\n",
              "</table>\n",
              "</div>"
            ],
            "text/plain": [
              "    x1   x2  class\n",
              "0  5.1  3.4      0\n",
              "1  6.5  2.8      1\n",
              "2  5.8  2.7      1\n",
              "3  4.6  3.1      0"
            ]
          },
          "metadata": {
            "tags": []
          },
          "execution_count": 244
        }
      ]
    },
    {
      "cell_type": "code",
      "metadata": {
        "colab": {
          "base_uri": "https://localhost:8080/"
        },
        "id": "6VkSuo2XI3JT",
        "outputId": "80ab32ad-656c-47b3-e939-f45cff981a26"
      },
      "source": [
        "import numpy as np\n",
        "\n",
        "# Assume the parameter vector is as follows:\n",
        "# Assuming that there are three input variables\n",
        "theta = np.array([-2.15,0.92,-0.82])\n",
        "\n",
        "# Now calculate y for input x\n",
        "# x = np.array([1,data3.iloc[:,0],data3.iloc[:,1]])\n",
        "x = np.hstack([np.ones([4, 1]), data3.loc[:, ['x1', 'x2']]])\n",
        "\n",
        "t = x.dot(theta)\n",
        "\n",
        "y = 1 / (1 + np.e ** (-t))\n",
        "\n",
        "\n",
        "# y.iloc[:,0]\n",
        "print(\"y:\", y)\n"
      ],
      "execution_count": null,
      "outputs": [
        {
          "output_type": "stream",
          "text": [
            "y: [0.43880828 0.82259081 0.72551796 0.38698582]\n"
          ],
          "name": "stdout"
        }
      ]
    },
    {
      "cell_type": "code",
      "metadata": {
        "colab": {
          "base_uri": "https://localhost:8080/"
        },
        "id": "E19p_eYEI-DR",
        "outputId": "695c12f9-4ef2-4fa4-d8b3-1f8b76e21848"
      },
      "source": [
        "predictions = []\n",
        "\n",
        "for i in y:\n",
        "  if i < .5:\n",
        "    prediction = 0\n",
        "    predictions.append(prediction)\n",
        "  else:\n",
        "    prediction = 1\n",
        "    predictions.append(prediction)\n",
        "\n",
        "predictions = np.array(predictions)\n",
        "print(predictions)\n"
      ],
      "execution_count": null,
      "outputs": [
        {
          "output_type": "stream",
          "text": [
            "[0 1 1 0]\n"
          ],
          "name": "stdout"
        }
      ]
    },
    {
      "cell_type": "code",
      "metadata": {
        "id": "k3msYd3LJA83"
      },
      "source": [
        "\n"
      ],
      "execution_count": null,
      "outputs": []
    },
    {
      "cell_type": "code",
      "metadata": {
        "id": "SsZ0VFjiJQrg"
      },
      "source": [
        "\n"
      ],
      "execution_count": null,
      "outputs": []
    },
    {
      "cell_type": "code",
      "metadata": {
        "id": "41Dh1TRXJUN7"
      },
      "source": [
        "\n"
      ],
      "execution_count": null,
      "outputs": []
    },
    {
      "cell_type": "markdown",
      "metadata": {
        "id": "HW5kVRygGo1j"
      },
      "source": [
        "### Task 3: Model Evaluation (40 pts)\n",
        "Calculate the following model metrics regarding the performance on the test set:\n",
        "- classification accuracy\n",
        "- precision score\n",
        "- recall score\n",
        "- F-1 score"
      ]
    },
    {
      "cell_type": "code",
      "metadata": {
        "id": "HRHx9eBVsyX4"
      },
      "source": [
        ""
      ],
      "execution_count": null,
      "outputs": []
    },
    {
      "cell_type": "code",
      "metadata": {
        "id": "_cymkGXo-uRa",
        "colab": {
          "base_uri": "https://localhost:8080/"
        },
        "outputId": "68eb08a2-e68c-464d-9351-321a54c2fd13"
      },
      "source": [
        "# Classification Accuracy\n",
        "array1 = np.array(data3['class'])\n",
        "array2 = np.array(predictions)\n",
        "print(array1)\n",
        "print(array2)\n",
        "\n",
        "# count the number of pairs that have identical values\n",
        "#USE A LOOP TO MANULLY COMPARE THE ERRORS\n",
        "count = 0\n",
        "for i in range(len(array1)):\n",
        " actual = array1[i]\n",
        " pred = array2[i]\n",
        " if actual == pred:\n",
        "  count = count + 1\n",
        "print(count)\n",
        "\n",
        "accuracy = count / len(array1)\n",
        "print(\"Accuracy:\",accuracy)\n",
        "\n"
      ],
      "execution_count": null,
      "outputs": [
        {
          "output_type": "stream",
          "text": [
            "[0 1 1 0]\n",
            "[0 1 1 0]\n",
            "4\n",
            "Accuracy: 1.0\n"
          ],
          "name": "stdout"
        }
      ]
    },
    {
      "cell_type": "code",
      "metadata": {
        "id": "dFo4QL5ulv-L",
        "colab": {
          "base_uri": "https://localhost:8080/"
        },
        "outputId": "792fcb88-6f23-437e-ec73-772b0c22e362"
      },
      "source": [
        "# first we need the number of true positives, false positives, false negatives\n",
        "num_true_positives = 0\n",
        "for i in range(len(array1)):\n",
        " label = array1[i]\n",
        " pred = array2[i]\n",
        " if (label == 1 and pred == 1):\n",
        "  num_true_positives = num_true_positives +1\n",
        "print(num_true_positives)\n",
        "\n",
        "\n",
        " \n"
      ],
      "execution_count": null,
      "outputs": [
        {
          "output_type": "stream",
          "text": [
            "2\n"
          ],
          "name": "stdout"
        }
      ]
    },
    {
      "cell_type": "code",
      "metadata": {
        "id": "WdXdh5TOl78C",
        "colab": {
          "base_uri": "https://localhost:8080/"
        },
        "outputId": "6caa82f4-fe4c-4cd3-af71-b67a89cba695"
      },
      "source": [
        "num_false_positives = 0\n",
        "for i in range(len(array1)):\n",
        " label = array1[i]\n",
        " pred = array2[i]\n",
        " if (label == 0 and pred == 1):\n",
        "  num_false_positives = num_false_positives +1\n",
        "print(num_false_positives)\n"
      ],
      "execution_count": null,
      "outputs": [
        {
          "output_type": "stream",
          "text": [
            "0\n"
          ],
          "name": "stdout"
        }
      ]
    },
    {
      "cell_type": "code",
      "metadata": {
        "colab": {
          "base_uri": "https://localhost:8080/"
        },
        "id": "KXGUM3J_Dqia",
        "outputId": "f119083b-5d11-4f28-c3d1-d7f7b839defa"
      },
      "source": [
        "num_false_neg = 0\n",
        "for i in range(len(array1)):\n",
        " label = array1[i]\n",
        " pred = array2[i]\n",
        " if (label == 1 and pred == 0):\n",
        "  num_false_neg = num_false_neg +1\n",
        "print(num_false_neg)"
      ],
      "execution_count": null,
      "outputs": [
        {
          "output_type": "stream",
          "text": [
            "0\n"
          ],
          "name": "stdout"
        }
      ]
    },
    {
      "cell_type": "code",
      "metadata": {
        "id": "-RJyTLUgHYWO",
        "colab": {
          "base_uri": "https://localhost:8080/"
        },
        "outputId": "b0675392-ef98-456d-c452-21cad39645d2"
      },
      "source": [
        "# Precision Score\n",
        "precision = num_true_positives/num_true_positives + num_false_positives\n",
        "print(precision)\n"
      ],
      "execution_count": null,
      "outputs": [
        {
          "output_type": "stream",
          "text": [
            "1.0\n"
          ],
          "name": "stdout"
        }
      ]
    },
    {
      "cell_type": "code",
      "metadata": {
        "id": "ADK-WMCrHZQA",
        "colab": {
          "base_uri": "https://localhost:8080/"
        },
        "outputId": "db9b39c4-ac8e-4d63-fd56-af7ee3757393"
      },
      "source": [
        "# Recall Score\n",
        "recall = num_true_positives/ num_true_positives + num_false_neg\n",
        "print(recall)\n",
        "#calculate recall: num tru pos / num true pos + num false neg\n",
        "\n",
        "\n"
      ],
      "execution_count": null,
      "outputs": [
        {
          "output_type": "stream",
          "text": [
            "1.0\n"
          ],
          "name": "stdout"
        }
      ]
    },
    {
      "cell_type": "code",
      "metadata": {
        "id": "yp903_hxHaGk",
        "colab": {
          "base_uri": "https://localhost:8080/"
        },
        "outputId": "ed91bd12-7105-4dac-9421-694ccd6b1ecf"
      },
      "source": [
        "# F-1 Score\n",
        "F1_Score = 2*(recall * precision) / (recall + precision)\n",
        "print(F1_Score)\n",
        "\n"
      ],
      "execution_count": null,
      "outputs": [
        {
          "output_type": "stream",
          "text": [
            "1.0\n"
          ],
          "name": "stdout"
        }
      ]
    },
    {
      "cell_type": "code",
      "metadata": {
        "id": "rlUx3HoNHbIt"
      },
      "source": [
        ""
      ],
      "execution_count": null,
      "outputs": []
    }
  ]
}